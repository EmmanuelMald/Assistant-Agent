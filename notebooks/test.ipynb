{
 "cells": [
  {
   "cell_type": "code",
   "execution_count": 7,
   "id": "ef52d6de",
   "metadata": {},
   "outputs": [],
   "source": [
    "from loguru import logger\n",
    "from google import genai\n",
    "from google.genai import types\n",
    "from PIL import Image\n",
    "from io import BytesIO\n",
    "import sys\n",
    "\n",
    "sys.path.append(\"../..\")\n",
    "\n",
    "from assistant_agent.utils.gcp.gcs import upload_image_from_memory\n",
    "from assistant_agent.credentials import get_llm_config\n",
    "from assistant_agent.config import GCPConfig\n",
    "\n",
    "\n",
    "gcp_config = GCPConfig()\n",
    "llm_config = get_llm_config()\n",
    "\n",
    "genai_client = genai.Client(api_key=llm_config.API_KEY.get_secret_value())\n"
   ]
  },
  {
   "cell_type": "code",
   "execution_count": null,
   "id": "bf10d696",
   "metadata": {},
   "outputs": [],
   "source": []
  },
  {
   "cell_type": "code",
   "execution_count": null,
   "id": "1f2f14d9",
   "metadata": {},
   "outputs": [],
   "source": [
    "text_input = \"An astronaut dog doing a walking on the Moon\"\n",
    "\n",
    "response = genai_client.models.generate_images(\n",
    "    model='imagen-3.0-generate-002',\n",
    "    prompt=text_input,\n",
    "    config=types.GenerateImagesConfig(\n",
    "        number_of_images= 1,\n",
    "    )\n",
    ")\n",
    "for generated_image in response.generated_images:\n",
    "  image = Image.open(BytesIO(generated_image.image.image_bytes))\n",
    "  image.show()"
   ]
  },
  {
   "cell_type": "code",
   "execution_count": null,
   "id": "52156643",
   "metadata": {},
   "outputs": [],
   "source": []
  }
 ],
 "metadata": {
  "kernelspec": {
   "display_name": ".venv",
   "language": "python",
   "name": "python3"
  },
  "language_info": {
   "codemirror_mode": {
    "name": "ipython",
    "version": 3
   },
   "file_extension": ".py",
   "mimetype": "text/x-python",
   "name": "python",
   "nbconvert_exporter": "python",
   "pygments_lexer": "ipython3",
   "version": "3.11.10"
  }
 },
 "nbformat": 4,
 "nbformat_minor": 5
}
